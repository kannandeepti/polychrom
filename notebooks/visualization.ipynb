{
 "cells": [
  {
   "cell_type": "markdown",
   "id": "bdcf1d38",
   "metadata": {},
   "source": [
    "# Visualizing simulation snapshots\n",
    "\n",
    "Use nglview to visualize snapshots of polymer configurations. TODO: make production quality versions in blender"
   ]
  },
  {
   "cell_type": "code",
   "execution_count": 5,
   "id": "ca2dbd18",
   "metadata": {},
   "outputs": [],
   "source": [
    "#Here are the import statements sameer used in his notebook to analyze a simulation\n",
    "import os\n",
    "os.chdir(\"/home/dkannan/git-remotes/polychrom/\")\n",
    "from pathlib import Path\n",
    "import importlib as imp\n",
    "from collections import defaultdict\n",
    "import h5py\n",
    "import json\n",
    "from copy import deepcopy\n",
    "import multiprocessing as mp\n",
    "\n",
    "import matplotlib as mpl\n",
    "import matplotlib.pyplot as plt\n",
    "\n",
    "from numba import jit\n",
    "import numpy as np\n",
    "import numpy.ma as ma\n",
    "import pandas as pd\n",
    "import scipy\n",
    "from scipy.ndimage import gaussian_filter1d\n",
    "from scipy.interpolate import interp1d, interp2d\n",
    "\n",
    "import polychrom\n",
    "from polychrom import polymer_analyses, contactmaps, polymerutils\n",
    "from polychrom.hdf5_format import list_URIs, load_URI, load_hdf5_file\n",
    "\n",
    "from cooltools.lib import numutils\n",
    "from pathlib import Path\n",
    "from functools import partial\n",
    "\n",
    "from matplotlib.colors import LogNorm, Normalize\n",
    "from matplotlib.gridspec import GridSpec"
   ]
  },
  {
   "cell_type": "code",
   "execution_count": 6,
   "id": "e74f6cdc",
   "metadata": {},
   "outputs": [
    {
     "data": {
      "application/vnd.jupyter.widget-view+json": {
       "model_id": "1c2e8d057bf94f18a6b21d815070d0ba",
       "version_major": 2,
       "version_minor": 0
      },
      "text/plain": []
     },
     "metadata": {},
     "output_type": "display_data"
    }
   ],
   "source": [
    "import nglutils as ngu\n",
    "import nglview as nv"
   ]
  },
  {
   "cell_type": "code",
   "execution_count": 26,
   "id": "ac867134",
   "metadata": {},
   "outputs": [
    {
     "name": "stdout",
     "output_type": "stream",
     "text": [
      "ABidentities_blobel2021_chr2_35Mb_60Mb.npy\r\n",
      "compartment_identities.npy\r\n",
      "comp_scores_q25_chr2_blobel.csv\r\n",
      "conformations_bcomps_10x.npy\r\n",
      "conformations_bcomps_19x.npy\r\n",
      "conformations_bcomps_25.666666666666668x.npy\r\n",
      "conformations_bcomps_2x.npy\r\n",
      "conformations_bcomps_39x.npy\r\n",
      "conformations_bcomps_3x.npy\r\n",
      "conformations_bcomps_4x.npy\r\n",
      "conformations_bcomps_5x.npy\r\n",
      "conformations_bcomps_7x.npy\r\n",
      "conformations_comps10x.npy\r\n",
      "conformations_comps19x.npy\r\n",
      "conformations_comps4x.npy\r\n",
      "conformations_comps7x.npy\r\n",
      "conformations_Deq1.npy\r\n",
      "contact_map_bcomps_10x_cutoff2.0.npy\r\n",
      "contact_map_bcomps_19x_cutoff2.0.npy\r\n",
      "contact_map_bcomps_25.666666666666668x_cutoff2.0.npy\r\n",
      "contact_map_bcomps_2x_cutoff2.0.npy\r\n",
      "contact_map_bcomps_39x_cutoff2.0.npy\r\n",
      "contact_map_bcomps_3x_cutoff2.0.npy\r\n",
      "contact_map_bcomps_4x_cutoff2.0.npy\r\n",
      "contact_map_bcomps_5x_cutoff2.0.npy\r\n",
      "contact_map_bcomps_7x_cutoff2.0.npy\r\n",
      "\u001b[0m\u001b[01;34mcontactmaps\u001b[0m/\r\n",
      "mean_squared_separation_bcomps_10x.csv\r\n",
      "mean_squared_separation_bcomps_19x.csv\r\n",
      "mean_squared_separation_bcomps_25.666666666666668x.csv\r\n",
      "mean_squared_separation_bcomps_2x.csv\r\n",
      "mean_squared_separation_bcomps_39x.csv\r\n",
      "mean_squared_separation_bcomps_3x.csv\r\n",
      "mean_squared_separation_bcomps_4x.csv\r\n",
      "mean_squared_separation_bcomps_5x.csv\r\n",
      "mean_squared_separation_bcomps_7x.csv\r\n",
      "mean_squared_separation_comps10x.csv\r\n",
      "mean_squared_separation_comps19x.csv\r\n",
      "mean_squared_separation_comps4x.csv\r\n",
      "mean_squared_separation_comps7x.csv\r\n",
      "mean_squared_separation_Deq1.csv\r\n",
      "rsquared_bcomps_10x.csv\r\n",
      "rsquared_bcomps_19x.csv\r\n",
      "rsquared_bcomps_25.666666666666668x.csv\r\n",
      "rsquared_bcomps_2x.csv\r\n",
      "rsquared_bcomps_39x.csv\r\n",
      "rsquared_bcomps_3x.csv\r\n",
      "rsquared_bcomps_4x.csv\r\n",
      "rsquared_bcomps_5x.csv\r\n",
      "rsquared_bcomps_7x.csv\r\n",
      "rsquared_comps10x.csv\r\n",
      "rsquared_comps19x.csv\r\n",
      "rsquared_comps4x.csv\r\n",
      "rsquared_comps7x.csv\r\n",
      "rsquared_Deq1.csv\r\n"
     ]
    }
   ],
   "source": [
    "ls data"
   ]
  },
  {
   "cell_type": "markdown",
   "id": "e4f0d079",
   "metadata": {},
   "source": [
    "## First try example from Simon"
   ]
  },
  {
   "cell_type": "code",
   "execution_count": 32,
   "id": "7ea3f3d7",
   "metadata": {},
   "outputs": [],
   "source": [
    "conformations_10x = np.load('data/conformations_bcomps_2x.npy')\n",
    "conf = load_URI(conformations_10x[1])"
   ]
  },
  {
   "cell_type": "code",
   "execution_count": 8,
   "id": "13cd514a",
   "metadata": {},
   "outputs": [
    {
     "data": {
      "text/plain": [
       "1000"
      ]
     },
     "execution_count": 8,
     "metadata": {},
     "output_type": "execute_result"
    }
   ],
   "source": [
    "len(conf['pos'])"
   ]
  },
  {
   "cell_type": "code",
   "execution_count": 9,
   "id": "4bf893c9",
   "metadata": {},
   "outputs": [
    {
     "data": {
      "application/vnd.jupyter.widget-view+json": {
       "model_id": "90aeb3797d58434492c5c13120951783",
       "version_major": 2,
       "version_minor": 0
      },
      "text/plain": [
       "NGLWidget()"
      ]
     },
     "metadata": {},
     "output_type": "display_data"
    }
   ],
   "source": [
    "view_simple = ngu.xyz2nglview(conf['pos'])\n",
    "view_simple"
   ]
  },
  {
   "cell_type": "code",
   "execution_count": 13,
   "id": "dced5246",
   "metadata": {},
   "outputs": [
    {
     "data": {
      "application/vnd.jupyter.widget-view+json": {
       "model_id": "f8c0aae5ae8c45a488fbe953998bc1c2",
       "version_major": 2,
       "version_minor": 0
      },
      "text/plain": [
       "NGLWidget()"
      ]
     },
     "metadata": {},
     "output_type": "display_data"
    }
   ],
   "source": [
    "view = nv.show_pdbid(\"3pqr\") \n",
    "view"
   ]
  },
  {
   "cell_type": "code",
   "execution_count": 14,
   "id": "0f1f6ab4",
   "metadata": {},
   "outputs": [
    {
     "data": {
      "application/vnd.jupyter.widget-view+json": {
       "model_id": "97705b2a26fd46149436ded7d49e404a",
       "version_major": 2,
       "version_minor": 0
      },
      "text/plain": [
       "Text(value='hello')"
      ]
     },
     "metadata": {},
     "output_type": "display_data"
    }
   ],
   "source": [
    "import ipywidgets \n",
    "ipywidgets.Text(\"hello\")"
   ]
  },
  {
   "cell_type": "markdown",
   "id": "ed67f587",
   "metadata": {},
   "source": [
    "# Adding colors for compartment identities"
   ]
  },
  {
   "cell_type": "code",
   "execution_count": 22,
   "id": "4824e528",
   "metadata": {},
   "outputs": [
    {
     "name": "stdout",
     "output_type": "stream",
     "text": [
      "1000\n"
     ]
    },
    {
     "data": {
      "text/plain": [
       "676"
      ]
     },
     "execution_count": 22,
     "metadata": {},
     "output_type": "execute_result"
    }
   ],
   "source": [
    "ids = np.load('data/ABidentities_blobel2021_chr2_35Mb_60Mb.npy')\n",
    "N = len(ids)\n",
    "print(N)\n",
    "monomer_ids = np.zeros((N,), dtype=int)\n",
    "monomer_ids[ids==0] = 1 #type B(cold)\n",
    "monomer_ids[ids==1] = 0 #type A (hot)\n",
    "#convert integer monomer types to atom names\n",
    "monomer_names = ngu.intlist_to_alpha(monomer_ids)\n",
    "np.sum(monomer_ids)"
   ]
  },
  {
   "cell_type": "code",
   "execution_count": 18,
   "id": "e29c41da",
   "metadata": {},
   "outputs": [
    {
     "data": {
      "application/vnd.jupyter.widget-view+json": {
       "model_id": "998dc9812e864c0ea24ec3a92c5590ce",
       "version_major": 2,
       "version_minor": 0
      },
      "text/plain": [
       "NGLWidget()"
      ]
     },
     "metadata": {},
     "output_type": "display_data"
    }
   ],
   "source": [
    "top = ngu.mdtop_for_polymer(N, atom_names=monomer_names)\n",
    "view = ngu.xyz2nglview(conf['pos'], top=top)\n",
    "view"
   ]
  },
  {
   "cell_type": "code",
   "execution_count": 14,
   "id": "dc104cb1",
   "metadata": {},
   "outputs": [],
   "source": [
    "ngu.rep_add.colormap(view, plt.cm.viridis, '.A', colorMode='rgb')\n",
    "ngu.rep_add.colormap(view, plt.cm.spring, '.B', colorMode='rgb')"
   ]
  },
  {
   "cell_type": "code",
   "execution_count": 33,
   "id": "1c7486f1",
   "metadata": {},
   "outputs": [
    {
     "data": {
      "application/vnd.jupyter.widget-view+json": {
       "model_id": "3ab0c2b21bd449ef87e177db8af41439",
       "version_major": 2,
       "version_minor": 0
      },
      "text/plain": [
       "NGLWidget()"
      ]
     },
     "metadata": {},
     "output_type": "display_data"
    }
   ],
   "source": [
    "# Usually monochrome is most useful, that's why there is a small helper for that\n",
    "view.clear_representations()\n",
    "view = ngu.xyz2nglview(conf['pos'], top=top)\n",
    "ngu.rep_add.uniform(view, 0xC83835, '.A')\n",
    "ngu.rep_add.uniform(view, 0x47abd8, '.B')\n",
    "view"
   ]
  },
  {
   "cell_type": "code",
   "execution_count": 35,
   "id": "93e8d89e",
   "metadata": {},
   "outputs": [],
   "source": [
    "view.download_image('snapshot_bcomps_2x_conf1.png', transparent=True, factor=10)"
   ]
  },
  {
   "cell_type": "code",
   "execution_count": 34,
   "id": "a8d7844b",
   "metadata": {},
   "outputs": [],
   "source": [
    "# Show compartments\n",
    "view.center()\n",
    "view.clear_representations()\n",
    "view.add_representation('ball+stick', selection='.A',\n",
    "                                    colorScheme='uniform',\n",
    "                                    colorValue=0xff4242)\n",
    "\n",
    "view.add_representation('ball+stick', selection='.B',\n",
    "                                      colorScheme='uniform',\n",
    "                                      colorValue=0x475FD0,\n",
    "                                      )\n"
   ]
  },
  {
   "cell_type": "code",
   "execution_count": 48,
   "id": "9783298c",
   "metadata": {},
   "outputs": [
    {
     "data": {
      "image/png": "[encoded data removed]",
      "text/html": [
       "<div style=\"vertical-align: middle;\"><strong>blend</strong> </div><div class=\"cmap\"><img alt=\"blend colormap\" title=\"blend\" style=\"border: 1px solid #555;\" src=\"data:image/png;base64,iVBORw0KGgoAAAANSUhEUgAAAgAAAABACAYAAABsv8+/AAAAFHRFWHRUaXRsZQBibGVuZCBjb2xvcm1hcKH0gPAAAAAadEVYdERlc2NyaXB0aW9uAGJsZW5kIGNvbG9ybWFwX6spFgAAADB0RVh0QXV0aG9yAE1hdHBsb3RsaWIgdjMuNS4yLCBodHRwczovL21hdHBsb3RsaWIub3Jnwlp4nAAAADJ0RVh0U29mdHdhcmUATWF0cGxvdGxpYiB2My41LjIsIGh0dHBzOi8vbWF0cGxvdGxpYi5vcmfs/Oe7AAABuklEQVR4nO3WQU7CUBRA0VfUzbkNd+LCrQMUI6ZSFOPgnjMQ2/9tHxWSuzw+P60zM3P8Oev69su79+ML6x+nN/afrZ/2710/HZ7tXz+Nv3vejzE3rnfp/czG/ivXr30+W/NuXm/v8/nl/beuf/H+P33+N/r/3Ozz+cPn81/ft/Xl+Hq3HmZm5n55mJmZZZbj67J8f/zl/GHnvgvnl8POfea55TyHrfWr5zvft/G+r76eef5inuNfAQApAgAAggQAAAQJAAAIEgAAECQAACBIAABAkAAAgCABAABBAgAAggQAAAQJAAAIEgAAECQAACBIAABAkAAAgCABAABBAgAAggQAAAQJAAAIEgAAECQAACBIAABAkAAAgCABAABBAgAAggQAAAQJAAAIEgAAECQAACBIAABAkAAAgCABAABBAgAAggQAAAQJAAAIEgAAECQAACBIAABAkAAAgCABAABBAgAAggQAAAQJAAAIEgAAECQAACBIAABAkAAAgCABAABBAgAAggQAAAQJAAAIEgAAECQAACBIAABAkAAAgCABAABBAgAAggQAAAQJAAAIEgAAECQAACBIAABA0CunY8kyoaMYnQAAAABJRU5ErkJggg==\"></div><div style=\"vertical-align: middle; max-width: 514px; display: flex; justify-content: space-between;\"><div style=\"float: left;\"><div title=\"#4b8264ff\" style=\"display: inline-block; width: 1em; height: 1em; margin: 0; vertical-align: middle; border: 1px solid #555; background-color: #4b8264ff;\"></div> under</div><div style=\"margin: 0 auto; display: inline-block;\">bad <div title=\"#00000000\" style=\"display: inline-block; width: 1em; height: 1em; margin: 0; vertical-align: middle; border: 1px solid #555; background-color: #00000000;\"></div></div><div style=\"float: right;\">over <div title=\"#a956b7ff\" style=\"display: inline-block; width: 1em; height: 1em; margin: 0; vertical-align: middle; border: 1px solid #555; background-color: #a956b7ff;\"></div></div>"
      ],
      "text/plain": [
       "<matplotlib.colors.LinearSegmentedColormap at 0x7f59200edf10>"
      ]
     },
     "execution_count": 48,
     "metadata": {},
     "output_type": "execute_result"
    }
   ],
   "source": [
    "import seaborn as sns\n",
    "sns.diverging_palette(145, 300, s=60, center=\"dark\", as_cmap=True)"
   ]
  },
  {
   "cell_type": "code",
   "execution_count": null,
   "id": "e860d579",
   "metadata": {},
   "outputs": [],
   "source": []
  }
 ],
 "metadata": {
  "kernelspec": {
   "display_name": "Python 3 (ipykernel)",
   "language": "python",
   "name": "python3"
  },
  "language_info": {
   "codemirror_mode": {
    "name": "ipython",
    "version": 3
   },
   "file_extension": ".py",
   "mimetype": "text/x-python",
   "name": "python",
   "nbconvert_exporter": "python",
   "pygments_lexer": "ipython3",
   "version": "3.9.12"
  }
 },
 "nbformat": 4,
 "nbformat_minor": 5
}
